{
 "cells": [
  {
   "cell_type": "markdown",
   "id": "4232964f-3ddf-47ae-a2e8-e5317656736b",
   "metadata": {},
   "source": [
    "# Big Data in Law Enforcements"
   ]
  },
  {
   "cell_type": "markdown",
   "id": "44608c5f-aad7-4015-be37-417ca2c9a916",
   "metadata": {},
   "source": [
    "## Introduction\n",
    "Big Data is extremely large data sets that may be analysed computationally to reveal patterns, trends, and associations, especially relating to human behaviour and interactions."
   ]
  },
  {
   "cell_type": "markdown",
   "id": "b81b1e68-6562-4f62-b983-4f2b7ebb05f3",
   "metadata": {},
   "source": [
    "**Objectives**\n",
    "* List of popular \n",
    "languages for Data Scienc\n",
    "* List of the commonly used libraries used by Data Scientist\n",
    "* A few examples of evaluating arithmetic expressions in Python.e"
   ]
  },
  {
   "cell_type": "markdown",
   "id": "0538f323-d1ca-4124-b7c6-fd012711954e",
   "metadata": {},
   "source": [
    "## Some of the popular languages that Data Scientists use are:"
   ]
  },
  {
   "cell_type": "markdown",
   "id": "2dcea1d8-c7f2-41ea-8f02-3ee240f6b812",
   "metadata": {},
   "source": [
    "1. Python\n",
    "2. R\n",
    "3. SQL"
   ]
  },
  {
   "cell_type": "markdown",
   "id": "75ea72f1-bbf9-4549-913f-5bcfdee828a7",
   "metadata": {},
   "source": [
    "## Some of the commonly used libraries used by Data Scientist include:"
   ]
  },
  {
   "cell_type": "markdown",
   "id": "15fce5c6-f0cf-4bf4-b8ab-7c2b7fec656b",
   "metadata": {},
   "source": [
    "* NumPy\n",
    "* pandas\n",
    "* Matplotlib"
   ]
  },
  {
   "cell_type": "markdown",
   "id": "1a3a82d3-8b68-4fdc-9465-fa71ced79c27",
   "metadata": {},
   "source": [
    "| Data Science Tools       |\r\n",
    "|-------------------------|\r\n",
    "| Jupyter Notebook         |\r\n",
    "| Apache Spark            |\r\n",
    "| RStudio                |\r\n"
   ]
  },
  {
   "cell_type": "markdown",
   "id": "dae6a463-c2a1-413a-9f52-b9953b3a5ef7",
   "metadata": {},
   "source": [
    "### Below are a few examples of evaluating arithmetic expressions in Python."
   ]
  },
  {
   "cell_type": "code",
   "execution_count": 8,
   "id": "6cb15cd6-c6f1-410d-aa44-3a6992991c42",
   "metadata": {},
   "outputs": [
    {
     "data": {
      "text/plain": [
       "33"
      ]
     },
     "execution_count": 8,
     "metadata": {},
     "output_type": "execute_result"
    }
   ],
   "source": [
    "# This is a simple arithmetic expression\n",
    "(4*6)+9"
   ]
  },
  {
   "cell_type": "code",
   "execution_count": 9,
   "id": "65758600-3d47-4945-85bb-afc600350623",
   "metadata": {},
   "outputs": [
    {
     "data": {
      "text/plain": [
       "5.0"
      ]
     },
     "execution_count": 9,
     "metadata": {},
     "output_type": "execute_result"
    }
   ],
   "source": [
    "# This will convert 300 minutes to hours by dividing by 60\n",
    "300/60"
   ]
  },
  {
   "cell_type": "markdown",
   "id": "105d0bbb-d387-49fe-a8ac-24f16d15263c",
   "metadata": {},
   "source": [
    "## Author\n",
    "Yernar"
   ]
  }
 ],
 "metadata": {
  "kernelspec": {
   "display_name": "Python 3 (ipykernel)",
   "language": "python",
   "name": "python3"
  },
  "language_info": {
   "codemirror_mode": {
    "name": "ipython",
    "version": 3
   },
   "file_extension": ".py",
   "mimetype": "text/x-python",
   "name": "python",
   "nbconvert_exporter": "python",
   "pygments_lexer": "ipython3",
   "version": "3.12.0"
  }
 },
 "nbformat": 4,
 "nbformat_minor": 5
}
